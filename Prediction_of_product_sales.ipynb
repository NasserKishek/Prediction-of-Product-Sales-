{
  "nbformat": 4,
  "nbformat_minor": 0,
  "metadata": {
    "colab": {
      "provenance": [],
      "authorship_tag": "ABX9TyMT6tDpTOjB1Um+owtJD95E",
      "include_colab_link": true
    },
    "kernelspec": {
      "name": "python3",
      "display_name": "Python 3"
    },
    "language_info": {
      "name": "python"
    }
  },
  "cells": [
    {
      "cell_type": "markdown",
      "metadata": {
        "id": "view-in-github",
        "colab_type": "text"
      },
      "source": [
        "<a href=\"https://colab.research.google.com/github/NasserKishek/Prediction-of-Product-Sales-/blob/main/Prediction_of_product_sales.ipynb\" target=\"_parent\"><img src=\"https://colab.research.google.com/assets/colab-badge.svg\" alt=\"Open In Colab\"/></a>"
      ]
    },
    {
      "cell_type": "markdown",
      "source": [
        "# Prediction of Product Sales\n",
        "- Author: Nasser"
      ],
      "metadata": {
        "id": "lTd4PVB6fV8W"
      }
    },
    {
      "cell_type": "markdown",
      "source": [
        "## Project Overview\n"
      ],
      "metadata": {
        "id": "QLFlA9Rlfng5"
      }
    },
    {
      "cell_type": "markdown",
      "source": [
        "## Load and Inspect Data\n"
      ],
      "metadata": {
        "id": "NXhO2E-vgDHe"
      }
    },
    {
      "cell_type": "code",
      "source": [],
      "metadata": {
        "id": "RtfS8gU0gE8I"
      },
      "execution_count": null,
      "outputs": []
    },
    {
      "cell_type": "markdown",
      "source": [
        "## Clean Data\n"
      ],
      "metadata": {
        "id": "IfRdrCAagFqP"
      }
    },
    {
      "cell_type": "code",
      "source": [],
      "metadata": {
        "id": "NaA6C9lqgHvw"
      },
      "execution_count": null,
      "outputs": []
    },
    {
      "cell_type": "markdown",
      "source": [
        "## Exploratory Data Analysis\n"
      ],
      "metadata": {
        "id": "10z853EIgIsd"
      }
    },
    {
      "cell_type": "code",
      "source": [],
      "metadata": {
        "id": "cJIo4k3EgJ3i"
      },
      "execution_count": null,
      "outputs": []
    },
    {
      "cell_type": "markdown",
      "source": [
        "## Feature Inspection"
      ],
      "metadata": {
        "id": "ShOm9TvugKaa"
      }
    },
    {
      "cell_type": "code",
      "source": [],
      "metadata": {
        "id": "cxetXb6FgSAM"
      },
      "execution_count": null,
      "outputs": []
    }
  ]
}